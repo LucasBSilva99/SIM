{
 "cells": [
  {
   "cell_type": "code",
   "execution_count": 1,
   "metadata": {},
   "outputs": [],
   "source": [
    "import pandas as pd\n",
    "import math\n",
    "import numpy as np\n",
    "import time\n",
    "import matplotlib.pyplot as plt"
   ]
  },
  {
   "cell_type": "code",
   "execution_count": 2,
   "metadata": {},
   "outputs": [],
   "source": [
    "url = \"https://raw.githubusercontent.com/johnmyleswhite/ML_for_Hackers/master/02-Exploration/data/01_heights_weights_genders.csv\""
   ]
  },
  {
   "cell_type": "markdown",
   "metadata": {},
   "source": [
    "### Accuracy"
   ]
  },
  {
   "cell_type": "code",
   "execution_count": 26,
   "metadata": {},
   "outputs": [],
   "source": [
    "def accuracy(df):\n",
    "    return (df.loc['Alert', 'P'] + df.loc['Non-Alert', 'N']) / (df.loc['Alert', 'P'] + df.loc['Non-Alert', 'N'] + df.loc['Alert', 'N'] + df.loc['Non-Alert', 'P'])"
   ]
  },
  {
   "cell_type": "markdown",
   "metadata": {},
   "source": [
    "### Precision"
   ]
  },
  {
   "cell_type": "code",
   "execution_count": 4,
   "metadata": {},
   "outputs": [],
   "source": [
    "def precision(df):\n",
    "    return df.loc['Alert', 'P'] / (df.loc['Alert', 'P'] + df.loc['Alert', 'N'])"
   ]
  },
  {
   "cell_type": "markdown",
   "metadata": {},
   "source": [
    "### Recall"
   ]
  },
  {
   "cell_type": "code",
   "execution_count": 5,
   "metadata": {},
   "outputs": [],
   "source": [
    "def recall(df):\n",
    "    return df.loc['Alert', 'P'] / (df.loc['Non-Alert', 'P'] + df.loc['Alert', 'P'])"
   ]
  },
  {
   "cell_type": "markdown",
   "metadata": {},
   "source": [
    "## MCC - Mathew Correlation Coefficent"
   ]
  },
  {
   "cell_type": "code",
   "execution_count": 6,
   "metadata": {},
   "outputs": [],
   "source": [
    "def mcc(df):\n",
    "    return ((df.loc['Alert', 'P'] * df.loc['Non-Alert', 'N']) - (df.loc['Alert', 'N'] * df.loc['Non-Alert', 'P'])) / math.sqrt((df.loc['Alert', 'P'] + df.loc['Alert', 'N']) * (df.loc['Alert', 'P'] + df.loc['Non-Alert', 'P']) * (df.loc['Non-Alert', 'N'] + df.loc['Alert', 'N']) * (df.loc['Non-Alert', 'N'] + df.loc['Non-Alert', 'P']))    "
   ]
  },
  {
   "cell_type": "markdown",
   "metadata": {},
   "source": [
    "## Gerar Matriz de Confusão"
   ]
  },
  {
   "cell_type": "code",
   "execution_count": 7,
   "metadata": {},
   "outputs": [],
   "source": [
    "def get_confusion_matrix(df, f):\n",
    "    confusion_dict = {\"P\":[0, 0], \"N\":[0, 0]}\n",
    "    for person_index in range(df.shape[0]):\n",
    "        weight_expected = f(df.iloc[person_index]['Height'])\n",
    "        if weight_expected <= df.iloc[person_index]['Weight']:\n",
    "            if df.iloc[person_index]['Gender'] == 1:\n",
    "                confusion_dict['P'][0] += 1\n",
    "            else:\n",
    "                confusion_dict['N'][0] += 1\n",
    "        else:\n",
    "            if df.iloc[person_index]['Gender'] == 0:\n",
    "                confusion_dict['N'][1] += 1\n",
    "            else:\n",
    "                confusion_dict['P'][1] += 1\n",
    "    return pd.DataFrame(confusion_dict, index =['Alert', 'Non-Alert'])"
   ]
  },
  {
   "cell_type": "code",
   "execution_count": 8,
   "metadata": {},
   "outputs": [],
   "source": [
    "def report(df, f, is_print=False):\n",
    "    confusion_matrix = get_confusion_matrix(df, f)\n",
    "    if is_print:\n",
    "        print(confusion_matrix)\n",
    "    return {\n",
    "        'accuracy' : accuracy(confusion_matrix),\n",
    "        'precision' : precision(confusion_matrix),\n",
    "        'recall' : recall(confusion_matrix),\n",
    "        'mcc' : mcc(confusion_matrix)\n",
    "    }"
   ]
  },
  {
   "cell_type": "markdown",
   "metadata": {},
   "source": [
    "### Reta f(x)"
   ]
  },
  {
   "cell_type": "code",
   "execution_count": 9,
   "metadata": {},
   "outputs": [],
   "source": [
    "def myf(x):\n",
    "    return (18 / 7) * x - (60 / 7)"
   ]
  },
  {
   "cell_type": "markdown",
   "metadata": {},
   "source": [
    "### Ler csv para um dataframe"
   ]
  },
  {
   "cell_type": "code",
   "execution_count": 10,
   "metadata": {},
   "outputs": [
    {
     "data": {
      "text/html": [
       "<div>\n",
       "<style scoped>\n",
       "    .dataframe tbody tr th:only-of-type {\n",
       "        vertical-align: middle;\n",
       "    }\n",
       "\n",
       "    .dataframe tbody tr th {\n",
       "        vertical-align: top;\n",
       "    }\n",
       "\n",
       "    .dataframe thead th {\n",
       "        text-align: right;\n",
       "    }\n",
       "</style>\n",
       "<table border=\"1\" class=\"dataframe\">\n",
       "  <thead>\n",
       "    <tr style=\"text-align: right;\">\n",
       "      <th></th>\n",
       "      <th>Gender</th>\n",
       "      <th>Height</th>\n",
       "      <th>Weight</th>\n",
       "    </tr>\n",
       "  </thead>\n",
       "  <tbody>\n",
       "    <tr>\n",
       "      <th>0</th>\n",
       "      <td>Male</td>\n",
       "      <td>73.847017</td>\n",
       "      <td>241.893563</td>\n",
       "    </tr>\n",
       "    <tr>\n",
       "      <th>1</th>\n",
       "      <td>Male</td>\n",
       "      <td>68.781904</td>\n",
       "      <td>162.310473</td>\n",
       "    </tr>\n",
       "    <tr>\n",
       "      <th>2</th>\n",
       "      <td>Male</td>\n",
       "      <td>74.110105</td>\n",
       "      <td>212.740856</td>\n",
       "    </tr>\n",
       "    <tr>\n",
       "      <th>3</th>\n",
       "      <td>Male</td>\n",
       "      <td>71.730978</td>\n",
       "      <td>220.042470</td>\n",
       "    </tr>\n",
       "    <tr>\n",
       "      <th>4</th>\n",
       "      <td>Male</td>\n",
       "      <td>69.881796</td>\n",
       "      <td>206.349801</td>\n",
       "    </tr>\n",
       "  </tbody>\n",
       "</table>\n",
       "</div>"
      ],
      "text/plain": [
       "  Gender     Height      Weight\n",
       "0   Male  73.847017  241.893563\n",
       "1   Male  68.781904  162.310473\n",
       "2   Male  74.110105  212.740856\n",
       "3   Male  71.730978  220.042470\n",
       "4   Male  69.881796  206.349801"
      ]
     },
     "execution_count": 10,
     "metadata": {},
     "output_type": "execute_result"
    }
   ],
   "source": [
    "persons = pd.read_csv(url, error_bad_lines=False)\n",
    "persons.head()"
   ]
  },
  {
   "cell_type": "markdown",
   "metadata": {},
   "source": [
    "### Trocar Male e Female por 1 e 0"
   ]
  },
  {
   "cell_type": "code",
   "execution_count": 11,
   "metadata": {},
   "outputs": [
    {
     "data": {
      "text/html": [
       "<div>\n",
       "<style scoped>\n",
       "    .dataframe tbody tr th:only-of-type {\n",
       "        vertical-align: middle;\n",
       "    }\n",
       "\n",
       "    .dataframe tbody tr th {\n",
       "        vertical-align: top;\n",
       "    }\n",
       "\n",
       "    .dataframe thead th {\n",
       "        text-align: right;\n",
       "    }\n",
       "</style>\n",
       "<table border=\"1\" class=\"dataframe\">\n",
       "  <thead>\n",
       "    <tr style=\"text-align: right;\">\n",
       "      <th></th>\n",
       "      <th>Gender</th>\n",
       "      <th>Height</th>\n",
       "      <th>Weight</th>\n",
       "    </tr>\n",
       "  </thead>\n",
       "  <tbody>\n",
       "    <tr>\n",
       "      <th>0</th>\n",
       "      <td>1</td>\n",
       "      <td>73.847017</td>\n",
       "      <td>241.893563</td>\n",
       "    </tr>\n",
       "    <tr>\n",
       "      <th>1</th>\n",
       "      <td>1</td>\n",
       "      <td>68.781904</td>\n",
       "      <td>162.310473</td>\n",
       "    </tr>\n",
       "    <tr>\n",
       "      <th>2</th>\n",
       "      <td>1</td>\n",
       "      <td>74.110105</td>\n",
       "      <td>212.740856</td>\n",
       "    </tr>\n",
       "    <tr>\n",
       "      <th>3</th>\n",
       "      <td>1</td>\n",
       "      <td>71.730978</td>\n",
       "      <td>220.042470</td>\n",
       "    </tr>\n",
       "    <tr>\n",
       "      <th>4</th>\n",
       "      <td>1</td>\n",
       "      <td>69.881796</td>\n",
       "      <td>206.349801</td>\n",
       "    </tr>\n",
       "  </tbody>\n",
       "</table>\n",
       "</div>"
      ],
      "text/plain": [
       "   Gender     Height      Weight\n",
       "0       1  73.847017  241.893563\n",
       "1       1  68.781904  162.310473\n",
       "2       1  74.110105  212.740856\n",
       "3       1  71.730978  220.042470\n",
       "4       1  69.881796  206.349801"
      ]
     },
     "execution_count": 11,
     "metadata": {},
     "output_type": "execute_result"
    }
   ],
   "source": [
    "persons['Gender'].replace('Female', 0, inplace=True)\n",
    "persons['Gender'].replace('Male', 1, inplace=True)\n",
    "persons.head()"
   ]
  },
  {
   "cell_type": "markdown",
   "metadata": {},
   "source": [
    "### Trocar a ordem das colunas"
   ]
  },
  {
   "cell_type": "code",
   "execution_count": 12,
   "metadata": {},
   "outputs": [
    {
     "data": {
      "text/html": [
       "<div>\n",
       "<style scoped>\n",
       "    .dataframe tbody tr th:only-of-type {\n",
       "        vertical-align: middle;\n",
       "    }\n",
       "\n",
       "    .dataframe tbody tr th {\n",
       "        vertical-align: top;\n",
       "    }\n",
       "\n",
       "    .dataframe thead th {\n",
       "        text-align: right;\n",
       "    }\n",
       "</style>\n",
       "<table border=\"1\" class=\"dataframe\">\n",
       "  <thead>\n",
       "    <tr style=\"text-align: right;\">\n",
       "      <th></th>\n",
       "      <th>Height</th>\n",
       "      <th>Weight</th>\n",
       "      <th>Gender</th>\n",
       "    </tr>\n",
       "  </thead>\n",
       "  <tbody>\n",
       "    <tr>\n",
       "      <th>0</th>\n",
       "      <td>73.847017</td>\n",
       "      <td>241.893563</td>\n",
       "      <td>1</td>\n",
       "    </tr>\n",
       "    <tr>\n",
       "      <th>1</th>\n",
       "      <td>68.781904</td>\n",
       "      <td>162.310473</td>\n",
       "      <td>1</td>\n",
       "    </tr>\n",
       "    <tr>\n",
       "      <th>2</th>\n",
       "      <td>74.110105</td>\n",
       "      <td>212.740856</td>\n",
       "      <td>1</td>\n",
       "    </tr>\n",
       "    <tr>\n",
       "      <th>3</th>\n",
       "      <td>71.730978</td>\n",
       "      <td>220.042470</td>\n",
       "      <td>1</td>\n",
       "    </tr>\n",
       "    <tr>\n",
       "      <th>4</th>\n",
       "      <td>69.881796</td>\n",
       "      <td>206.349801</td>\n",
       "      <td>1</td>\n",
       "    </tr>\n",
       "  </tbody>\n",
       "</table>\n",
       "</div>"
      ],
      "text/plain": [
       "      Height      Weight  Gender\n",
       "0  73.847017  241.893563       1\n",
       "1  68.781904  162.310473       1\n",
       "2  74.110105  212.740856       1\n",
       "3  71.730978  220.042470       1\n",
       "4  69.881796  206.349801       1"
      ]
     },
     "execution_count": 12,
     "metadata": {},
     "output_type": "execute_result"
    }
   ],
   "source": [
    "persons = persons[['Height', 'Weight', 'Gender']]\n",
    "persons.head()"
   ]
  },
  {
   "cell_type": "code",
   "execution_count": 13,
   "metadata": {},
   "outputs": [
    {
     "data": {
      "image/png": "[encoded data removed]",
      "text/plain": [
       "<Figure size 432x288 with 1 Axes>"
      ]
     },
     "metadata": {
      "needs_background": "light"
     },
     "output_type": "display_data"
    }
   ],
   "source": [
    "x = np.linspace(50, 90, 1000)\n",
    "y = myf(x)\n",
    "plt.plot(x, y, c='red')\n",
    "plt.draw()"
   ]
  },
  {
   "cell_type": "code",
   "execution_count": 14,
   "metadata": {},
   "outputs": [
    {
     "data": {
      "image/png": "[encoded data removed]",
      "text/plain": [
       "<Figure size 432x288 with 1 Axes>"
      ]
     },
     "metadata": {
      "needs_background": "light"
     },
     "output_type": "display_data"
    }
   ],
   "source": [
    "plt.scatter(persons.Height, persons.Weight, c=persons.Gender)\n",
    "plt.plot(x, y, c='red')\n",
    "plt.draw()"
   ]
  },
  {
   "cell_type": "code",
   "execution_count": 15,
   "metadata": {},
   "outputs": [
    {
     "data": {
      "text/plain": [
       "{'accuracy': 0.9189,\n",
       " 'precision': 0.9254519601868779,\n",
       " 'recall': 0.9112,\n",
       " 'mcc': 0.8378993639982237}"
      ]
     },
     "execution_count": 15,
     "metadata": {},
     "output_type": "execute_result"
    }
   ],
   "source": [
    "report(persons, myf, False)"
   ]
  },
  {
   "cell_type": "code",
   "execution_count": 16,
   "metadata": {},
   "outputs": [],
   "source": [
    "def do_reports(min_m, max_m, iter_m, min_b, max_b, iter_b):\n",
    "    reports = {\n",
    "        \"m\" : [],\n",
    "        \"b\" : [],\n",
    "        \"accuracy\" : [],\n",
    "        \"precision\" : [],\n",
    "        \"recall\" : [],\n",
    "        \"mcc\" : []\n",
    "    }\n",
    "    for m in np.arange(min_m, max_m, iter_m):\n",
    "        for b in np.arange(min_b, max_b, iter_b):\n",
    "            r = report(persons, lambda x: m * x - b, False)\n",
    "            reports[\"m\"].append(m)\n",
    "            reports[\"b\"].append(b)\n",
    "            reports[\"accuracy\"].append(r[\"accuracy\"])\n",
    "            reports[\"precision\"].append(r[\"precision\"])\n",
    "            reports[\"recall\"].append(r[\"recall\"])\n",
    "            reports[\"mcc\"].append(r[\"mcc\"])\n",
    "    return pd.DataFrame(reports)"
   ]
  },
  {
   "cell_type": "code",
   "execution_count": 17,
   "metadata": {},
   "outputs": [
    {
     "name": "stdout",
     "output_type": "stream",
     "text": [
      "467.6395478248596\n"
     ]
    }
   ],
   "source": [
    "start = time.time()\n",
    "reports_df = do_reports(2, 3.1, 0.1, 5, 6.1, 0.1)\n",
    "print(time.time() - start)"
   ]
  },
  {
   "cell_type": "code",
   "execution_count": 18,
   "metadata": {},
   "outputs": [
    {
     "data": {
      "text/html": [
       "<div>\n",
       "<style scoped>\n",
       "    .dataframe tbody tr th:only-of-type {\n",
       "        vertical-align: middle;\n",
       "    }\n",
       "\n",
       "    .dataframe tbody tr th {\n",
       "        vertical-align: top;\n",
       "    }\n",
       "\n",
       "    .dataframe thead th {\n",
       "        text-align: right;\n",
       "    }\n",
       "</style>\n",
       "<table border=\"1\" class=\"dataframe\">\n",
       "  <thead>\n",
       "    <tr style=\"text-align: right;\">\n",
       "      <th></th>\n",
       "      <th>m</th>\n",
       "      <th>b</th>\n",
       "      <th>accuracy</th>\n",
       "      <th>precision</th>\n",
       "      <th>recall</th>\n",
       "      <th>mcc</th>\n",
       "    </tr>\n",
       "  </thead>\n",
       "  <tbody>\n",
       "    <tr>\n",
       "      <th>0</th>\n",
       "      <td>2.0</td>\n",
       "      <td>5.0</td>\n",
       "      <td>0.5934</td>\n",
       "      <td>0.551534</td>\n",
       "      <td>0.9996</td>\n",
       "      <td>0.320356</td>\n",
       "    </tr>\n",
       "    <tr>\n",
       "      <th>1</th>\n",
       "      <td>2.0</td>\n",
       "      <td>5.1</td>\n",
       "      <td>0.5920</td>\n",
       "      <td>0.550683</td>\n",
       "      <td>0.9996</td>\n",
       "      <td>0.317691</td>\n",
       "    </tr>\n",
       "    <tr>\n",
       "      <th>2</th>\n",
       "      <td>2.0</td>\n",
       "      <td>5.2</td>\n",
       "      <td>0.5907</td>\n",
       "      <td>0.549895</td>\n",
       "      <td>0.9996</td>\n",
       "      <td>0.315203</td>\n",
       "    </tr>\n",
       "    <tr>\n",
       "      <th>3</th>\n",
       "      <td>2.0</td>\n",
       "      <td>5.3</td>\n",
       "      <td>0.5899</td>\n",
       "      <td>0.549412</td>\n",
       "      <td>0.9996</td>\n",
       "      <td>0.313665</td>\n",
       "    </tr>\n",
       "    <tr>\n",
       "      <th>4</th>\n",
       "      <td>2.0</td>\n",
       "      <td>5.4</td>\n",
       "      <td>0.5891</td>\n",
       "      <td>0.548929</td>\n",
       "      <td>0.9996</td>\n",
       "      <td>0.312123</td>\n",
       "    </tr>\n",
       "  </tbody>\n",
       "</table>\n",
       "</div>"
      ],
      "text/plain": [
       "     m    b  accuracy  precision  recall       mcc\n",
       "0  2.0  5.0    0.5934   0.551534  0.9996  0.320356\n",
       "1  2.0  5.1    0.5920   0.550683  0.9996  0.317691\n",
       "2  2.0  5.2    0.5907   0.549895  0.9996  0.315203\n",
       "3  2.0  5.3    0.5899   0.549412  0.9996  0.313665\n",
       "4  2.0  5.4    0.5891   0.548929  0.9996  0.312123"
      ]
     },
     "execution_count": 18,
     "metadata": {},
     "output_type": "execute_result"
    }
   ],
   "source": [
    "reports_df.head()"
   ]
  },
  {
   "cell_type": "markdown",
   "metadata": {},
   "source": [
    "## Max Values\n"
   ]
  },
  {
   "cell_type": "code",
   "execution_count": 19,
   "metadata": {},
   "outputs": [
    {
     "data": {
      "text/plain": [
       "m            3.000000\n",
       "b            6.000000\n",
       "accuracy     0.918200\n",
       "precision    1.000000\n",
       "recall       0.999600\n",
       "mcc          0.836497\n",
       "dtype: float64"
      ]
     },
     "execution_count": 19,
     "metadata": {},
     "output_type": "execute_result"
    }
   ],
   "source": [
    "reports_df.max()"
   ]
  },
  {
   "cell_type": "markdown",
   "metadata": {},
   "source": [
    "# Min Values"
   ]
  },
  {
   "cell_type": "code",
   "execution_count": 20,
   "metadata": {},
   "outputs": [
    {
     "data": {
      "text/plain": [
       "m            2.000000\n",
       "b            5.000000\n",
       "accuracy     0.562800\n",
       "precision    0.545514\n",
       "recall       0.125600\n",
       "mcc          0.258859\n",
       "dtype: float64"
      ]
     },
     "execution_count": 20,
     "metadata": {},
     "output_type": "execute_result"
    }
   ],
   "source": [
    "reports_df.min()"
   ]
  },
  {
   "cell_type": "markdown",
   "metadata": {},
   "source": [
    "## Max Accuracy"
   ]
  },
  {
   "cell_type": "code",
   "execution_count": 21,
   "metadata": {},
   "outputs": [
    {
     "name": "stdout",
     "output_type": "stream",
     "text": [
      "y = 2.5000000000000004x - 5.0\n"
     ]
    },
    {
     "data": {
      "image/png": "[encoded data removed]",
      "text/plain": [
       "<Figure size 432x288 with 1 Axes>"
      ]
     },
     "metadata": {
      "needs_background": "light"
     },
     "output_type": "display_data"
    }
   ],
   "source": [
    "max_accuracy = reports_df.iloc[reports_df['accuracy'].idxmax()]\n",
    "x = np.linspace(50, 90, 1000)\n",
    "y = list(map(lambda i: max_accuracy.loc['m'] * i - max_accuracy.loc['b'], x))\n",
    "plt.scatter(persons.Height, persons.Weight, c=persons.Gender)\n",
    "plt.plot(x, y, c='red')\n",
    "plt.draw()\n",
    "print(\"y = \" + str(max_accuracy.loc['m']) + \"x - \" + str(max_accuracy.loc['b']))"
   ]
  },
  {
   "cell_type": "markdown",
   "metadata": {},
   "source": [
    "## Max Precision"
   ]
  },
  {
   "cell_type": "code",
   "execution_count": 22,
   "metadata": {},
   "outputs": [
    {
     "name": "stdout",
     "output_type": "stream",
     "text": [
      "y = 3.000000000000001x - 5.0\n"
     ]
    },
    {
     "data": {
      "image/png": "[encoded data removed]",
      "text/plain": [
       "<Figure size 432x288 with 1 Axes>"
      ]
     },
     "metadata": {
      "needs_background": "light"
     },
     "output_type": "display_data"
    }
   ],
   "source": [
    "max_precision = reports_df.iloc[reports_df['precision'].idxmax()]\n",
    "x = np.linspace(50, 90, 1000)\n",
    "y = list(map(lambda i: max_precision.loc['m'] * i - max_precision.loc['b'], x))\n",
    "plt.scatter(persons.Height, persons.Weight, c=persons.Gender)\n",
    "plt.plot(x, y, c='red')\n",
    "plt.draw()\n",
    "print(\"y = \" + str(max_precision.loc['m']) + \"x - \" + str(max_precision.loc['b']))"
   ]
  },
  {
   "cell_type": "markdown",
   "metadata": {},
   "source": [
    "## Max Recall"
   ]
  },
  {
   "cell_type": "code",
   "execution_count": 23,
   "metadata": {},
   "outputs": [
    {
     "name": "stdout",
     "output_type": "stream",
     "text": [
      "y = 2.0x - 5.0\n"
     ]
    },
    {
     "data": {
      "image/png": "[encoded data removed]",
      "text/plain": [
       "<Figure size 432x288 with 1 Axes>"
      ]
     },
     "metadata": {
      "needs_background": "light"
     },
     "output_type": "display_data"
    }
   ],
   "source": [
    "max_recall = reports_df.iloc[reports_df['recall'].idxmax()]\n",
    "x = np.linspace(50, 90, 1000)\n",
    "y = list(map(lambda i: max_recall.loc['m'] * i - max_recall.loc['b'], x))\n",
    "plt.scatter(persons.Height, persons.Weight, c=persons.Gender)\n",
    "plt.plot(x, y, c='red')\n",
    "plt.draw()\n",
    "print(\"y = \" + str(max_recall.loc['m']) + \"x - \" + str(max_recall.loc['b']))"
   ]
  },
  {
   "cell_type": "markdown",
   "metadata": {},
   "source": [
    "## Max MCC"
   ]
  },
  {
   "cell_type": "code",
   "execution_count": 24,
   "metadata": {},
   "outputs": [
    {
     "name": "stdout",
     "output_type": "stream",
     "text": [
      "y = 2.5000000000000004x - 5.1\n"
     ]
    },
    {
     "data": {
      "image/png": "[encoded data removed]",
      "text/plain": [
       "<Figure size 432x288 with 1 Axes>"
      ]
     },
     "metadata": {
      "needs_background": "light"
     },
     "output_type": "display_data"
    }
   ],
   "source": [
    "max_mcc = reports_df.iloc[reports_df['mcc'].idxmax()]\n",
    "x = np.linspace(50, 90, 1000)\n",
    "y = list(map(lambda i: max_mcc.loc['m'] * i - max_mcc.loc['b'], x))\n",
    "plt.scatter(persons.Height, persons.Weight, c=persons.Gender)\n",
    "plt.plot(x, y, c='red')\n",
    "plt.draw()\n",
    "print(\"y = \" + str(max_mcc.loc['m']) + \"x - \" + str(max_mcc.loc['b']))"
   ]
  },
  {
   "cell_type": "markdown",
   "metadata": {},
   "source": [
    "## Comparação"
   ]
  },
  {
   "cell_type": "code",
   "execution_count": 25,
   "metadata": {},
   "outputs": [
    {
     "name": "stdout",
     "output_type": "stream",
     "text": [
      "Max Accuracy(Red) = 2.5000000000000004x - 5.0\n",
      "Max Precision(Green) = 3.000000000000001x - 5.0\n",
      "Max Recall(Pink) = 2.0x - 5.0\n",
      "Max MCC(Cyan) = 2.5000000000000004x - 5.1\n"
     ]
    },
    {
     "data": {
      "image/png": "[encoded data removed]",
      "text/plain": [
       "<Figure size 432x288 with 1 Axes>"
      ]
     },
     "metadata": {
      "needs_background": "light"
     },
     "output_type": "display_data"
    }
   ],
   "source": [
    "x = np.linspace(50, 90, 1000)\n",
    "plt.scatter(persons.Height, persons.Weight, c=persons.Gender)\n",
    "y = list(map(lambda i: max_accuracy.loc['m'] * i - max_accuracy.loc['b'], x))\n",
    "plt.plot(x, y, c='red')\n",
    "y = list(map(lambda i: max_precision.loc['m'] * i - max_precision.loc['b'], x))\n",
    "plt.plot(x, y, c='green')\n",
    "y = list(map(lambda i: max_recall.loc['m'] * i - max_recall.loc['b'], x))\n",
    "plt.plot(x, y, c='pink')\n",
    "y = list(map(lambda i: max_mcc.loc['m'] * i - max_mcc.loc['b'], x))\n",
    "plt.plot(x, y, c='cyan')\n",
    "plt.draw()\n",
    "print(\"Max Accuracy(Red) = \" + str(max_accuracy.loc['m']) + \"x - \" + str(max_accuracy.loc['b']))\n",
    "print(\"Max Precision(Green) = \" + str(max_precision.loc['m']) + \"x - \" + str(max_precision.loc['b']))\n",
    "print(\"Max Recall(Pink) = \" + str(max_recall.loc['m']) + \"x - \" + str(max_recall.loc['b']))\n",
    "print(\"Max MCC(Cyan) = \" + str(max_mcc.loc['m']) + \"x - \" + str(max_mcc.loc['b']))"
   ]
  },
  {
   "cell_type": "code",
   "execution_count": null,
   "metadata": {},
   "outputs": [],
   "source": []
  }
 ],
 "metadata": {
  "kernelspec": {
   "display_name": "Python 3",
   "language": "python",
   "name": "python3"
  },
  "language_info": {
   "codemirror_mode": {
    "name": "ipython",
    "version": 3
   },
   "file_extension": ".py",
   "mimetype": "text/x-python",
   "name": "python",
   "nbconvert_exporter": "python",
   "pygments_lexer": "ipython3",
   "version": "3.7.3"
  }
 },
 "nbformat": 4,
 "nbformat_minor": 4
}
