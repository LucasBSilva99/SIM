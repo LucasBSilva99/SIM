{
 "cells": [
  {
   "cell_type": "markdown",
   "metadata": {},
   "source": [
    "# Quizz 2 - Exercício Prático\n",
    "\n",
    "Para se acelerar a correção do quizz, é necessário o preenchimento da seguinte informação:\n",
    "\n",
    "```{python}\n",
    "\n",
    "_student_id = {\n",
    "    'number' : 'a243413'\n",
    "    , 'lusofona_email' : 'a243413@alunos.lusofona.pt'\n",
    "    , 'class' : '1'\n",
    "}\n",
    "\n",
    "```\n",
    "\n",
    "O campo `class` deve ser preenchido tendo em conta a seguinte informação:\n",
    "\n",
    "- a turma das 10-12 deve preencher o campo com o valor `1`\n",
    "- a turma das 12-14 deve preencher o campo com o valor `2`\n",
    "- a turma das 18-20 deve preencher o campo com o valor `3`\n",
    "\n",
    "\n"
   ]
  },
  {
   "cell_type": "code",
   "execution_count": 2,
   "metadata": {},
   "outputs": [],
   "source": [
    "_student_id = {\n",
    "    'number' : 'a21703349'\n",
    "    , 'lusofona_email' : 'a21703349@alunos.ulusofona.pt'\n",
    "    , 'class' : '1'\n",
    "}"
   ]
  },
  {
   "cell_type": "markdown",
   "metadata": {},
   "source": [
    "## Descrição do exercício\n",
    "\n",
    "Neste exercício, o objetivo é utilizar o dataset `iris` para aplicarmos o PCA e percebermos qual o total de variância explicada pelos **dois principais componentes**.\n",
    "O valor da variância deve ser guardado na variável `iris_pca_2_varcumsum`, arrendondado ás duas casas decimais."
   ]
  },
  {
   "cell_type": "code",
   "execution_count": 3,
   "metadata": {},
   "outputs": [],
   "source": [
    "################## NÃO É NECESSÁRIO IMPLEMENTAR NADA AQUI ############################\n",
    "from sklearn.decomposition import PCA\n",
    "from sklearn import datasets\n",
    "import numpy as np\n",
    "import pandas as pd\n",
    "\n",
    "\n",
    "iris = datasets.load_iris()\n",
    "iris_df = pd.DataFrame(data= np.c_[iris['data']],\n",
    "                     columns= iris['feature_names'])\n",
    "######################################################################################"
   ]
  },
  {
   "cell_type": "code",
   "execution_count": 4,
   "metadata": {},
   "outputs": [
    {
     "data": {
      "text/html": [
       "<div>\n",
       "<style scoped>\n",
       "    .dataframe tbody tr th:only-of-type {\n",
       "        vertical-align: middle;\n",
       "    }\n",
       "\n",
       "    .dataframe tbody tr th {\n",
       "        vertical-align: top;\n",
       "    }\n",
       "\n",
       "    .dataframe thead th {\n",
       "        text-align: right;\n",
       "    }\n",
       "</style>\n",
       "<table border=\"1\" class=\"dataframe\">\n",
       "  <thead>\n",
       "    <tr style=\"text-align: right;\">\n",
       "      <th></th>\n",
       "      <th>sepal length (cm)</th>\n",
       "      <th>sepal width (cm)</th>\n",
       "      <th>petal length (cm)</th>\n",
       "      <th>petal width (cm)</th>\n",
       "    </tr>\n",
       "  </thead>\n",
       "  <tbody>\n",
       "    <tr>\n",
       "      <th>0</th>\n",
       "      <td>5.1</td>\n",
       "      <td>3.5</td>\n",
       "      <td>1.4</td>\n",
       "      <td>0.2</td>\n",
       "    </tr>\n",
       "    <tr>\n",
       "      <th>1</th>\n",
       "      <td>4.9</td>\n",
       "      <td>3.0</td>\n",
       "      <td>1.4</td>\n",
       "      <td>0.2</td>\n",
       "    </tr>\n",
       "    <tr>\n",
       "      <th>2</th>\n",
       "      <td>4.7</td>\n",
       "      <td>3.2</td>\n",
       "      <td>1.3</td>\n",
       "      <td>0.2</td>\n",
       "    </tr>\n",
       "    <tr>\n",
       "      <th>3</th>\n",
       "      <td>4.6</td>\n",
       "      <td>3.1</td>\n",
       "      <td>1.5</td>\n",
       "      <td>0.2</td>\n",
       "    </tr>\n",
       "    <tr>\n",
       "      <th>4</th>\n",
       "      <td>5.0</td>\n",
       "      <td>3.6</td>\n",
       "      <td>1.4</td>\n",
       "      <td>0.2</td>\n",
       "    </tr>\n",
       "  </tbody>\n",
       "</table>\n",
       "</div>"
      ],
      "text/plain": [
       "   sepal length (cm)  sepal width (cm)  petal length (cm)  petal width (cm)\n",
       "0                5.1               3.5                1.4               0.2\n",
       "1                4.9               3.0                1.4               0.2\n",
       "2                4.7               3.2                1.3               0.2\n",
       "3                4.6               3.1                1.5               0.2\n",
       "4                5.0               3.6                1.4               0.2"
      ]
     },
     "execution_count": 4,
     "metadata": {},
     "output_type": "execute_result"
    }
   ],
   "source": [
    "iris_df.head()"
   ]
  },
  {
   "cell_type": "code",
   "execution_count": 8,
   "metadata": {},
   "outputs": [
    {
     "name": "stdout",
     "output_type": "stream",
     "text": [
      "0.15\n",
      "0.85\n"
     ]
    }
   ],
   "source": [
    "np.random.seed(2)\n",
    "try:\n",
    "    ### Completar esta parte do código, e acrescente nesta célula os passos necessários para\n",
    "    ### As reticências são para apagar, e colocar lá o código necessário\n",
    "    ### Novamente - o exercício é computar o total de variância explicada pelos dois principais componente\n",
    "    ### Este é um valor real entre 0 e 1, e deve ser arredondado a duas casas decimais\n",
    "    pca = PCA(n_components=2)\n",
    "    pca.fit(iris_df.transpose())\n",
    "    print(round(pca.explained_variance_ratio_[1],2))  \n",
    "    print(round(pca.explained_variance_ratio_[0],2))  \n",
    "    \n",
    "    ### A implementação acaba aqui\n",
    "except:\n",
    "    pca = None"
   ]
  },
  {
   "cell_type": "code",
   "execution_count": null,
   "metadata": {},
   "outputs": [],
   "source": [
    "try:\n",
    "    ### O valor computado do total de variância explicada pelos dois componentes principais deve ser guardado nesta variável - iris_pca_2_varcumsum\n",
    "    iris_pca_2_varcumsum = round(pca.explained_variance_ratio_[1],2) + round(pca.explained_variance_ratio_[0],2)\n",
    "except:\n",
    "    iris_pca_2_varcumsum = None"
   ]
  },
  {
   "cell_type": "code",
   "execution_count": 9,
   "metadata": {},
   "outputs": [
    {
     "name": "stdout",
     "output_type": "stream",
     "text": [
      "0.15\n",
      "0.85\n",
      "1.0\n"
     ]
    }
   ],
   "source": [
    "try:\n",
    "    '''\n",
    "    Aqui, dentro deste try, podem colocar código para vos ajudar a responder ás respostas do moodle.\n",
    "    Tenham atenção para não fazerem overwrite das variáveis criadas anteriormente.\n",
    "    '''\n",
    "    pca = PCA(n_components=2)\n",
    "    pca.fit(iris_df.transpose())\n",
    "    print(round(pca.explained_variance_ratio_[1],2))  \n",
    "    print(round(pca.explained_variance_ratio_[0],2))  \n",
    "    \n",
    "    iris_pca_2_varcumsum = round(pca.explained_variance_ratio_[1],2) + round(pca.explained_variance_ratio_[0],2)\n",
    "    print(iris_pca_2_varcumsum)\n",
    "    \n",
    "except Exception as e:\n",
    "    print(e)"
   ]
  },
  {
   "cell_type": "code",
   "execution_count": null,
   "metadata": {},
   "outputs": [],
   "source": []
  }
 ],
 "metadata": {
  "kernelspec": {
   "display_name": "Python 3",
   "language": "python",
   "name": "python3"
  },
  "language_info": {
   "codemirror_mode": {
    "name": "ipython",
    "version": 3
   },
   "file_extension": ".py",
   "mimetype": "text/x-python",
   "name": "python",
   "nbconvert_exporter": "python",
   "pygments_lexer": "ipython3",
   "version": "3.7.3"
  }
 },
 "nbformat": 4,
 "nbformat_minor": 4
}
